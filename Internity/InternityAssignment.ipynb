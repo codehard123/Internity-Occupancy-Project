{
 "cells": [
  {
   "cell_type": "code",
   "execution_count": 118,
   "metadata": {
    "collapsed": true
   },
   "outputs": [],
   "source": [
    "import pandas as pd\n",
    "import seaborn as sns \n",
    "import numpy as np\n",
    "import matplotlib.pyplot as plt\n",
    "%matplotlib inline"
   ]
  },
  {
   "cell_type": "code",
   "execution_count": 119,
   "metadata": {
    "collapsed": true
   },
   "outputs": [],
   "source": [
    "test=pd.read_csv('datatest.txt',sep=',')"
   ]
  },
  {
   "cell_type": "code",
   "execution_count": 120,
   "metadata": {
    "collapsed": true
   },
   "outputs": [],
   "source": [
    "train=pd.read_csv('datatraining.txt',sep=',')"
   ]
  },
  {
   "cell_type": "code",
   "execution_count": 121,
   "metadata": {
    "collapsed": true
   },
   "outputs": [],
   "source": [
    "test2=pd.read_csv('datatest2.txt',sep=',')"
   ]
  },
  {
   "cell_type": "markdown",
   "metadata": {},
   "source": [
    "Working on training data"
   ]
  },
  {
   "cell_type": "markdown",
   "metadata": {},
   "source": [
    "<img src=\"info.jpg\">"
   ]
  },
  {
   "cell_type": "code",
   "execution_count": 122,
   "metadata": {},
   "outputs": [
    {
     "data": {
      "text/html": [
       "<div>\n",
       "<style scoped>\n",
       "    .dataframe tbody tr th:only-of-type {\n",
       "        vertical-align: middle;\n",
       "    }\n",
       "\n",
       "    .dataframe tbody tr th {\n",
       "        vertical-align: top;\n",
       "    }\n",
       "\n",
       "    .dataframe thead th {\n",
       "        text-align: right;\n",
       "    }\n",
       "</style>\n",
       "<table border=\"1\" class=\"dataframe\">\n",
       "  <thead>\n",
       "    <tr style=\"text-align: right;\">\n",
       "      <th></th>\n",
       "      <th>date</th>\n",
       "      <th>Temperature</th>\n",
       "      <th>Humidity</th>\n",
       "      <th>Light</th>\n",
       "      <th>CO2</th>\n",
       "      <th>HumidityRatio</th>\n",
       "      <th>Occupancy</th>\n",
       "    </tr>\n",
       "  </thead>\n",
       "  <tbody>\n",
       "    <tr>\n",
       "      <th>1</th>\n",
       "      <td>2015-02-04 17:51:00</td>\n",
       "      <td>23.18</td>\n",
       "      <td>27.2720</td>\n",
       "      <td>426.0</td>\n",
       "      <td>721.25</td>\n",
       "      <td>0.004793</td>\n",
       "      <td>1</td>\n",
       "    </tr>\n",
       "    <tr>\n",
       "      <th>2</th>\n",
       "      <td>2015-02-04 17:51:59</td>\n",
       "      <td>23.15</td>\n",
       "      <td>27.2675</td>\n",
       "      <td>429.5</td>\n",
       "      <td>714.00</td>\n",
       "      <td>0.004783</td>\n",
       "      <td>1</td>\n",
       "    </tr>\n",
       "    <tr>\n",
       "      <th>3</th>\n",
       "      <td>2015-02-04 17:53:00</td>\n",
       "      <td>23.15</td>\n",
       "      <td>27.2450</td>\n",
       "      <td>426.0</td>\n",
       "      <td>713.50</td>\n",
       "      <td>0.004779</td>\n",
       "      <td>1</td>\n",
       "    </tr>\n",
       "    <tr>\n",
       "      <th>4</th>\n",
       "      <td>2015-02-04 17:54:00</td>\n",
       "      <td>23.15</td>\n",
       "      <td>27.2000</td>\n",
       "      <td>426.0</td>\n",
       "      <td>708.25</td>\n",
       "      <td>0.004772</td>\n",
       "      <td>1</td>\n",
       "    </tr>\n",
       "    <tr>\n",
       "      <th>5</th>\n",
       "      <td>2015-02-04 17:55:00</td>\n",
       "      <td>23.10</td>\n",
       "      <td>27.2000</td>\n",
       "      <td>426.0</td>\n",
       "      <td>704.50</td>\n",
       "      <td>0.004757</td>\n",
       "      <td>1</td>\n",
       "    </tr>\n",
       "  </tbody>\n",
       "</table>\n",
       "</div>"
      ],
      "text/plain": [
       "                  date  Temperature  Humidity  Light     CO2  HumidityRatio  \\\n",
       "1  2015-02-04 17:51:00        23.18   27.2720  426.0  721.25       0.004793   \n",
       "2  2015-02-04 17:51:59        23.15   27.2675  429.5  714.00       0.004783   \n",
       "3  2015-02-04 17:53:00        23.15   27.2450  426.0  713.50       0.004779   \n",
       "4  2015-02-04 17:54:00        23.15   27.2000  426.0  708.25       0.004772   \n",
       "5  2015-02-04 17:55:00        23.10   27.2000  426.0  704.50       0.004757   \n",
       "\n",
       "   Occupancy  \n",
       "1          1  \n",
       "2          1  \n",
       "3          1  \n",
       "4          1  \n",
       "5          1  "
      ]
     },
     "execution_count": 122,
     "metadata": {},
     "output_type": "execute_result"
    }
   ],
   "source": [
    "train.head()"
   ]
  },
  {
   "cell_type": "code",
   "execution_count": 123,
   "metadata": {},
   "outputs": [
    {
     "data": {
      "text/plain": [
       "8143"
      ]
     },
     "execution_count": 123,
     "metadata": {},
     "output_type": "execute_result"
    }
   ],
   "source": [
    "len(train)"
   ]
  },
  {
   "cell_type": "markdown",
   "metadata": {},
   "source": [
    "Too many rows for a model to work efficiently"
   ]
  },
  {
   "cell_type": "code",
   "execution_count": 124,
   "metadata": {},
   "outputs": [
    {
     "data": {
      "text/plain": [
       "date             0\n",
       "Temperature      0\n",
       "Humidity         0\n",
       "Light            0\n",
       "CO2              0\n",
       "HumidityRatio    0\n",
       "Occupancy        0\n",
       "dtype: int64"
      ]
     },
     "execution_count": 124,
     "metadata": {},
     "output_type": "execute_result"
    }
   ],
   "source": [
    "train.isnull().sum()"
   ]
  },
  {
   "cell_type": "markdown",
   "metadata": {},
   "source": [
    "No null values so not dropping/filling"
   ]
  },
  {
   "cell_type": "markdown",
   "metadata": {},
   "source": [
    "Checking if Data has values that have high range"
   ]
  },
  {
   "cell_type": "code",
   "execution_count": 125,
   "metadata": {},
   "outputs": [
    {
     "data": {
      "text/html": [
       "<div>\n",
       "<style scoped>\n",
       "    .dataframe tbody tr th:only-of-type {\n",
       "        vertical-align: middle;\n",
       "    }\n",
       "\n",
       "    .dataframe tbody tr th {\n",
       "        vertical-align: top;\n",
       "    }\n",
       "\n",
       "    .dataframe thead th {\n",
       "        text-align: right;\n",
       "    }\n",
       "</style>\n",
       "<table border=\"1\" class=\"dataframe\">\n",
       "  <thead>\n",
       "    <tr style=\"text-align: right;\">\n",
       "      <th></th>\n",
       "      <th>Temperature</th>\n",
       "      <th>Humidity</th>\n",
       "      <th>Light</th>\n",
       "      <th>CO2</th>\n",
       "      <th>HumidityRatio</th>\n",
       "      <th>Occupancy</th>\n",
       "    </tr>\n",
       "  </thead>\n",
       "  <tbody>\n",
       "    <tr>\n",
       "      <th>count</th>\n",
       "      <td>8143.000000</td>\n",
       "      <td>8143.000000</td>\n",
       "      <td>8143.000000</td>\n",
       "      <td>8143.000000</td>\n",
       "      <td>8143.000000</td>\n",
       "      <td>8143.000000</td>\n",
       "    </tr>\n",
       "    <tr>\n",
       "      <th>mean</th>\n",
       "      <td>20.619084</td>\n",
       "      <td>25.731507</td>\n",
       "      <td>119.519375</td>\n",
       "      <td>606.546243</td>\n",
       "      <td>0.003863</td>\n",
       "      <td>0.212330</td>\n",
       "    </tr>\n",
       "    <tr>\n",
       "      <th>std</th>\n",
       "      <td>1.016916</td>\n",
       "      <td>5.531211</td>\n",
       "      <td>194.755805</td>\n",
       "      <td>314.320877</td>\n",
       "      <td>0.000852</td>\n",
       "      <td>0.408982</td>\n",
       "    </tr>\n",
       "    <tr>\n",
       "      <th>min</th>\n",
       "      <td>19.000000</td>\n",
       "      <td>16.745000</td>\n",
       "      <td>0.000000</td>\n",
       "      <td>412.750000</td>\n",
       "      <td>0.002674</td>\n",
       "      <td>0.000000</td>\n",
       "    </tr>\n",
       "    <tr>\n",
       "      <th>25%</th>\n",
       "      <td>19.700000</td>\n",
       "      <td>20.200000</td>\n",
       "      <td>0.000000</td>\n",
       "      <td>439.000000</td>\n",
       "      <td>0.003078</td>\n",
       "      <td>0.000000</td>\n",
       "    </tr>\n",
       "    <tr>\n",
       "      <th>50%</th>\n",
       "      <td>20.390000</td>\n",
       "      <td>26.222500</td>\n",
       "      <td>0.000000</td>\n",
       "      <td>453.500000</td>\n",
       "      <td>0.003801</td>\n",
       "      <td>0.000000</td>\n",
       "    </tr>\n",
       "    <tr>\n",
       "      <th>75%</th>\n",
       "      <td>21.390000</td>\n",
       "      <td>30.533333</td>\n",
       "      <td>256.375000</td>\n",
       "      <td>638.833333</td>\n",
       "      <td>0.004352</td>\n",
       "      <td>0.000000</td>\n",
       "    </tr>\n",
       "    <tr>\n",
       "      <th>max</th>\n",
       "      <td>23.180000</td>\n",
       "      <td>39.117500</td>\n",
       "      <td>1546.333333</td>\n",
       "      <td>2028.500000</td>\n",
       "      <td>0.006476</td>\n",
       "      <td>1.000000</td>\n",
       "    </tr>\n",
       "  </tbody>\n",
       "</table>\n",
       "</div>"
      ],
      "text/plain": [
       "       Temperature     Humidity        Light          CO2  HumidityRatio  \\\n",
       "count  8143.000000  8143.000000  8143.000000  8143.000000    8143.000000   \n",
       "mean     20.619084    25.731507   119.519375   606.546243       0.003863   \n",
       "std       1.016916     5.531211   194.755805   314.320877       0.000852   \n",
       "min      19.000000    16.745000     0.000000   412.750000       0.002674   \n",
       "25%      19.700000    20.200000     0.000000   439.000000       0.003078   \n",
       "50%      20.390000    26.222500     0.000000   453.500000       0.003801   \n",
       "75%      21.390000    30.533333   256.375000   638.833333       0.004352   \n",
       "max      23.180000    39.117500  1546.333333  2028.500000       0.006476   \n",
       "\n",
       "         Occupancy  \n",
       "count  8143.000000  \n",
       "mean      0.212330  \n",
       "std       0.408982  \n",
       "min       0.000000  \n",
       "25%       0.000000  \n",
       "50%       0.000000  \n",
       "75%       0.000000  \n",
       "max       1.000000  "
      ]
     },
     "execution_count": 125,
     "metadata": {},
     "output_type": "execute_result"
    }
   ],
   "source": [
    "train.describe()"
   ]
  },
  {
   "cell_type": "markdown",
   "metadata": {},
   "source": [
    "It seems Light and CO2 columns have Max values that deviate large from the mean<br>\n",
    "Checking the count of such rows."
   ]
  },
  {
   "cell_type": "code",
   "execution_count": 126,
   "metadata": {},
   "outputs": [
    {
     "data": {
      "text/plain": [
       "41"
      ]
     },
     "execution_count": 126,
     "metadata": {},
     "output_type": "execute_result"
    }
   ],
   "source": [
    "len(train['CO2'][train.CO2>2000])"
   ]
  },
  {
   "cell_type": "markdown",
   "metadata": {},
   "source": [
    "As 41 values have CO2 field >2000 it is not possible that the set has some faulty CO2 values"
   ]
  },
  {
   "cell_type": "code",
   "execution_count": 127,
   "metadata": {},
   "outputs": [
    {
     "data": {
      "text/plain": [
       "6"
      ]
     },
     "execution_count": 127,
     "metadata": {},
     "output_type": "execute_result"
    }
   ],
   "source": [
    "len(train['Light'][train.Light>700])"
   ]
  },
  {
   "cell_type": "markdown",
   "metadata": {},
   "source": [
    "As light has only 6 values above 700 ,they maybe faulty so dropping that entire row containing train.light>700"
   ]
  },
  {
   "cell_type": "code",
   "execution_count": 128,
   "metadata": {},
   "outputs": [
    {
     "data": {
      "text/html": [
       "<div>\n",
       "<style scoped>\n",
       "    .dataframe tbody tr th:only-of-type {\n",
       "        vertical-align: middle;\n",
       "    }\n",
       "\n",
       "    .dataframe tbody tr th {\n",
       "        vertical-align: top;\n",
       "    }\n",
       "\n",
       "    .dataframe thead th {\n",
       "        text-align: right;\n",
       "    }\n",
       "</style>\n",
       "<table border=\"1\" class=\"dataframe\">\n",
       "  <thead>\n",
       "    <tr style=\"text-align: right;\">\n",
       "      <th></th>\n",
       "      <th>Temperature</th>\n",
       "      <th>Humidity</th>\n",
       "      <th>Light</th>\n",
       "      <th>CO2</th>\n",
       "      <th>HumidityRatio</th>\n",
       "      <th>Occupancy</th>\n",
       "    </tr>\n",
       "  </thead>\n",
       "  <tbody>\n",
       "    <tr>\n",
       "      <th>count</th>\n",
       "      <td>8143.000000</td>\n",
       "      <td>8143.000000</td>\n",
       "      <td>8143.000000</td>\n",
       "      <td>8143.000000</td>\n",
       "      <td>8143.000000</td>\n",
       "      <td>8143.000000</td>\n",
       "    </tr>\n",
       "    <tr>\n",
       "      <th>mean</th>\n",
       "      <td>20.619084</td>\n",
       "      <td>25.731507</td>\n",
       "      <td>119.519375</td>\n",
       "      <td>606.546243</td>\n",
       "      <td>0.003863</td>\n",
       "      <td>0.212330</td>\n",
       "    </tr>\n",
       "    <tr>\n",
       "      <th>std</th>\n",
       "      <td>1.016916</td>\n",
       "      <td>5.531211</td>\n",
       "      <td>194.755805</td>\n",
       "      <td>314.320877</td>\n",
       "      <td>0.000852</td>\n",
       "      <td>0.408982</td>\n",
       "    </tr>\n",
       "    <tr>\n",
       "      <th>min</th>\n",
       "      <td>19.000000</td>\n",
       "      <td>16.745000</td>\n",
       "      <td>0.000000</td>\n",
       "      <td>412.750000</td>\n",
       "      <td>0.002674</td>\n",
       "      <td>0.000000</td>\n",
       "    </tr>\n",
       "    <tr>\n",
       "      <th>25%</th>\n",
       "      <td>19.700000</td>\n",
       "      <td>20.200000</td>\n",
       "      <td>0.000000</td>\n",
       "      <td>439.000000</td>\n",
       "      <td>0.003078</td>\n",
       "      <td>0.000000</td>\n",
       "    </tr>\n",
       "    <tr>\n",
       "      <th>50%</th>\n",
       "      <td>20.390000</td>\n",
       "      <td>26.222500</td>\n",
       "      <td>0.000000</td>\n",
       "      <td>453.500000</td>\n",
       "      <td>0.003801</td>\n",
       "      <td>0.000000</td>\n",
       "    </tr>\n",
       "    <tr>\n",
       "      <th>75%</th>\n",
       "      <td>21.390000</td>\n",
       "      <td>30.533333</td>\n",
       "      <td>256.375000</td>\n",
       "      <td>638.833333</td>\n",
       "      <td>0.004352</td>\n",
       "      <td>0.000000</td>\n",
       "    </tr>\n",
       "    <tr>\n",
       "      <th>max</th>\n",
       "      <td>23.180000</td>\n",
       "      <td>39.117500</td>\n",
       "      <td>1546.333333</td>\n",
       "      <td>2028.500000</td>\n",
       "      <td>0.006476</td>\n",
       "      <td>1.000000</td>\n",
       "    </tr>\n",
       "  </tbody>\n",
       "</table>\n",
       "</div>"
      ],
      "text/plain": [
       "       Temperature     Humidity        Light          CO2  HumidityRatio  \\\n",
       "count  8143.000000  8143.000000  8143.000000  8143.000000    8143.000000   \n",
       "mean     20.619084    25.731507   119.519375   606.546243       0.003863   \n",
       "std       1.016916     5.531211   194.755805   314.320877       0.000852   \n",
       "min      19.000000    16.745000     0.000000   412.750000       0.002674   \n",
       "25%      19.700000    20.200000     0.000000   439.000000       0.003078   \n",
       "50%      20.390000    26.222500     0.000000   453.500000       0.003801   \n",
       "75%      21.390000    30.533333   256.375000   638.833333       0.004352   \n",
       "max      23.180000    39.117500  1546.333333  2028.500000       0.006476   \n",
       "\n",
       "         Occupancy  \n",
       "count  8143.000000  \n",
       "mean      0.212330  \n",
       "std       0.408982  \n",
       "min       0.000000  \n",
       "25%       0.000000  \n",
       "50%       0.000000  \n",
       "75%       0.000000  \n",
       "max       1.000000  "
      ]
     },
     "execution_count": 128,
     "metadata": {},
     "output_type": "execute_result"
    }
   ],
   "source": [
    "train.describe()"
   ]
  },
  {
   "cell_type": "code",
   "execution_count": 129,
   "metadata": {},
   "outputs": [
    {
     "data": {
      "text/html": [
       "<div>\n",
       "<style scoped>\n",
       "    .dataframe tbody tr th:only-of-type {\n",
       "        vertical-align: middle;\n",
       "    }\n",
       "\n",
       "    .dataframe tbody tr th {\n",
       "        vertical-align: top;\n",
       "    }\n",
       "\n",
       "    .dataframe thead th {\n",
       "        text-align: right;\n",
       "    }\n",
       "</style>\n",
       "<table border=\"1\" class=\"dataframe\">\n",
       "  <thead>\n",
       "    <tr style=\"text-align: right;\">\n",
       "      <th></th>\n",
       "      <th>date</th>\n",
       "      <th>Temperature</th>\n",
       "      <th>Humidity</th>\n",
       "      <th>Light</th>\n",
       "      <th>CO2</th>\n",
       "      <th>HumidityRatio</th>\n",
       "      <th>Occupancy</th>\n",
       "    </tr>\n",
       "  </thead>\n",
       "  <tbody>\n",
       "    <tr>\n",
       "      <th>140</th>\n",
       "      <td>2015-02-02 14:19:00</td>\n",
       "      <td>23.700000</td>\n",
       "      <td>26.272000</td>\n",
       "      <td>585.200000</td>\n",
       "      <td>749.200000</td>\n",
       "      <td>0.004764</td>\n",
       "      <td>1</td>\n",
       "    </tr>\n",
       "    <tr>\n",
       "      <th>141</th>\n",
       "      <td>2015-02-02 14:19:59</td>\n",
       "      <td>23.718000</td>\n",
       "      <td>26.290000</td>\n",
       "      <td>578.400000</td>\n",
       "      <td>760.400000</td>\n",
       "      <td>0.004773</td>\n",
       "      <td>1</td>\n",
       "    </tr>\n",
       "    <tr>\n",
       "      <th>142</th>\n",
       "      <td>2015-02-02 14:21:00</td>\n",
       "      <td>23.730000</td>\n",
       "      <td>26.230000</td>\n",
       "      <td>572.666667</td>\n",
       "      <td>769.666667</td>\n",
       "      <td>0.004765</td>\n",
       "      <td>1</td>\n",
       "    </tr>\n",
       "    <tr>\n",
       "      <th>143</th>\n",
       "      <td>2015-02-02 14:22:00</td>\n",
       "      <td>23.722500</td>\n",
       "      <td>26.125000</td>\n",
       "      <td>493.750000</td>\n",
       "      <td>774.750000</td>\n",
       "      <td>0.004744</td>\n",
       "      <td>1</td>\n",
       "    </tr>\n",
       "    <tr>\n",
       "      <th>144</th>\n",
       "      <td>2015-02-02 14:23:00</td>\n",
       "      <td>23.754000</td>\n",
       "      <td>26.200000</td>\n",
       "      <td>488.600000</td>\n",
       "      <td>779.000000</td>\n",
       "      <td>0.004767</td>\n",
       "      <td>1</td>\n",
       "    </tr>\n",
       "    <tr>\n",
       "      <th>145</th>\n",
       "      <td>2015-02-02 14:23:59</td>\n",
       "      <td>23.760000</td>\n",
       "      <td>26.260000</td>\n",
       "      <td>568.666667</td>\n",
       "      <td>790.000000</td>\n",
       "      <td>0.004779</td>\n",
       "      <td>1</td>\n",
       "    </tr>\n",
       "    <tr>\n",
       "      <th>146</th>\n",
       "      <td>2015-02-02 14:25:00</td>\n",
       "      <td>23.730000</td>\n",
       "      <td>26.290000</td>\n",
       "      <td>536.333333</td>\n",
       "      <td>798.000000</td>\n",
       "      <td>0.004776</td>\n",
       "      <td>1</td>\n",
       "    </tr>\n",
       "    <tr>\n",
       "      <th>147</th>\n",
       "      <td>2015-02-02 14:25:59</td>\n",
       "      <td>23.754000</td>\n",
       "      <td>26.290000</td>\n",
       "      <td>509.000000</td>\n",
       "      <td>797.000000</td>\n",
       "      <td>0.004783</td>\n",
       "      <td>1</td>\n",
       "    </tr>\n",
       "    <tr>\n",
       "      <th>148</th>\n",
       "      <td>2015-02-02 14:26:59</td>\n",
       "      <td>23.754000</td>\n",
       "      <td>26.350000</td>\n",
       "      <td>476.000000</td>\n",
       "      <td>803.200000</td>\n",
       "      <td>0.004794</td>\n",
       "      <td>1</td>\n",
       "    </tr>\n",
       "    <tr>\n",
       "      <th>149</th>\n",
       "      <td>2015-02-02 14:28:00</td>\n",
       "      <td>23.736000</td>\n",
       "      <td>26.390000</td>\n",
       "      <td>510.000000</td>\n",
       "      <td>809.000000</td>\n",
       "      <td>0.004796</td>\n",
       "      <td>1</td>\n",
       "    </tr>\n",
       "    <tr>\n",
       "      <th>150</th>\n",
       "      <td>2015-02-02 14:29:00</td>\n",
       "      <td>23.745000</td>\n",
       "      <td>26.445000</td>\n",
       "      <td>481.500000</td>\n",
       "      <td>815.250000</td>\n",
       "      <td>0.004809</td>\n",
       "      <td>1</td>\n",
       "    </tr>\n",
       "    <tr>\n",
       "      <th>151</th>\n",
       "      <td>2015-02-02 14:30:00</td>\n",
       "      <td>23.700000</td>\n",
       "      <td>26.560000</td>\n",
       "      <td>481.800000</td>\n",
       "      <td>824.000000</td>\n",
       "      <td>0.004817</td>\n",
       "      <td>1</td>\n",
       "    </tr>\n",
       "    <tr>\n",
       "      <th>152</th>\n",
       "      <td>2015-02-02 14:31:00</td>\n",
       "      <td>23.700000</td>\n",
       "      <td>26.600000</td>\n",
       "      <td>475.250000</td>\n",
       "      <td>832.000000</td>\n",
       "      <td>0.004824</td>\n",
       "      <td>1</td>\n",
       "    </tr>\n",
       "    <tr>\n",
       "      <th>153</th>\n",
       "      <td>2015-02-02 14:31:59</td>\n",
       "      <td>23.700000</td>\n",
       "      <td>26.700000</td>\n",
       "      <td>469.000000</td>\n",
       "      <td>845.333333</td>\n",
       "      <td>0.004842</td>\n",
       "      <td>1</td>\n",
       "    </tr>\n",
       "    <tr>\n",
       "      <th>154</th>\n",
       "      <td>2015-02-02 14:32:59</td>\n",
       "      <td>23.700000</td>\n",
       "      <td>26.774000</td>\n",
       "      <td>464.000000</td>\n",
       "      <td>852.400000</td>\n",
       "      <td>0.004856</td>\n",
       "      <td>1</td>\n",
       "    </tr>\n",
       "    <tr>\n",
       "      <th>155</th>\n",
       "      <td>2015-02-02 14:34:00</td>\n",
       "      <td>23.700000</td>\n",
       "      <td>26.890000</td>\n",
       "      <td>464.000000</td>\n",
       "      <td>861.000000</td>\n",
       "      <td>0.004877</td>\n",
       "      <td>1</td>\n",
       "    </tr>\n",
       "    <tr>\n",
       "      <th>156</th>\n",
       "      <td>2015-02-02 14:35:00</td>\n",
       "      <td>23.700000</td>\n",
       "      <td>26.972500</td>\n",
       "      <td>455.000000</td>\n",
       "      <td>880.000000</td>\n",
       "      <td>0.004892</td>\n",
       "      <td>1</td>\n",
       "    </tr>\n",
       "    <tr>\n",
       "      <th>157</th>\n",
       "      <td>2015-02-02 14:36:00</td>\n",
       "      <td>23.600000</td>\n",
       "      <td>26.890000</td>\n",
       "      <td>454.000000</td>\n",
       "      <td>891.000000</td>\n",
       "      <td>0.004848</td>\n",
       "      <td>1</td>\n",
       "    </tr>\n",
       "    <tr>\n",
       "      <th>158</th>\n",
       "      <td>2015-02-02 14:37:00</td>\n",
       "      <td>23.640000</td>\n",
       "      <td>26.976000</td>\n",
       "      <td>458.000000</td>\n",
       "      <td>897.600000</td>\n",
       "      <td>0.004875</td>\n",
       "      <td>1</td>\n",
       "    </tr>\n",
       "    <tr>\n",
       "      <th>159</th>\n",
       "      <td>2015-02-02 14:38:00</td>\n",
       "      <td>23.650000</td>\n",
       "      <td>27.050000</td>\n",
       "      <td>464.000000</td>\n",
       "      <td>900.500000</td>\n",
       "      <td>0.004891</td>\n",
       "      <td>1</td>\n",
       "    </tr>\n",
       "    <tr>\n",
       "      <th>160</th>\n",
       "      <td>2015-02-02 14:38:59</td>\n",
       "      <td>23.640000</td>\n",
       "      <td>27.100000</td>\n",
       "      <td>473.000000</td>\n",
       "      <td>908.800000</td>\n",
       "      <td>0.004898</td>\n",
       "      <td>1</td>\n",
       "    </tr>\n",
       "    <tr>\n",
       "      <th>161</th>\n",
       "      <td>2015-02-02 14:39:59</td>\n",
       "      <td>23.600000</td>\n",
       "      <td>27.160000</td>\n",
       "      <td>464.000000</td>\n",
       "      <td>918.000000</td>\n",
       "      <td>0.004897</td>\n",
       "      <td>1</td>\n",
       "    </tr>\n",
       "    <tr>\n",
       "      <th>162</th>\n",
       "      <td>2015-02-02 14:41:00</td>\n",
       "      <td>23.600000</td>\n",
       "      <td>27.236000</td>\n",
       "      <td>498.400000</td>\n",
       "      <td>925.200000</td>\n",
       "      <td>0.004910</td>\n",
       "      <td>1</td>\n",
       "    </tr>\n",
       "    <tr>\n",
       "      <th>163</th>\n",
       "      <td>2015-02-02 14:42:00</td>\n",
       "      <td>23.600000</td>\n",
       "      <td>27.290000</td>\n",
       "      <td>530.200000</td>\n",
       "      <td>929.400000</td>\n",
       "      <td>0.004920</td>\n",
       "      <td>1</td>\n",
       "    </tr>\n",
       "    <tr>\n",
       "      <th>164</th>\n",
       "      <td>2015-02-02 14:43:00</td>\n",
       "      <td>23.600000</td>\n",
       "      <td>27.330000</td>\n",
       "      <td>533.600000</td>\n",
       "      <td>936.400000</td>\n",
       "      <td>0.004928</td>\n",
       "      <td>1</td>\n",
       "    </tr>\n",
       "    <tr>\n",
       "      <th>165</th>\n",
       "      <td>2015-02-02 14:44:00</td>\n",
       "      <td>23.600000</td>\n",
       "      <td>27.340000</td>\n",
       "      <td>524.250000</td>\n",
       "      <td>950.000000</td>\n",
       "      <td>0.004929</td>\n",
       "      <td>1</td>\n",
       "    </tr>\n",
       "    <tr>\n",
       "      <th>166</th>\n",
       "      <td>2015-02-02 14:44:59</td>\n",
       "      <td>23.625000</td>\n",
       "      <td>27.392500</td>\n",
       "      <td>498.666667</td>\n",
       "      <td>961.000000</td>\n",
       "      <td>0.004946</td>\n",
       "      <td>1</td>\n",
       "    </tr>\n",
       "    <tr>\n",
       "      <th>167</th>\n",
       "      <td>2015-02-02 14:45:59</td>\n",
       "      <td>23.600000</td>\n",
       "      <td>27.390000</td>\n",
       "      <td>516.333333</td>\n",
       "      <td>963.000000</td>\n",
       "      <td>0.004938</td>\n",
       "      <td>1</td>\n",
       "    </tr>\n",
       "    <tr>\n",
       "      <th>168</th>\n",
       "      <td>2015-02-02 14:47:00</td>\n",
       "      <td>23.600000</td>\n",
       "      <td>27.412000</td>\n",
       "      <td>501.200000</td>\n",
       "      <td>958.600000</td>\n",
       "      <td>0.004942</td>\n",
       "      <td>1</td>\n",
       "    </tr>\n",
       "    <tr>\n",
       "      <th>169</th>\n",
       "      <td>2015-02-02 14:48:00</td>\n",
       "      <td>23.600000</td>\n",
       "      <td>27.500000</td>\n",
       "      <td>522.000000</td>\n",
       "      <td>965.333333</td>\n",
       "      <td>0.004958</td>\n",
       "      <td>1</td>\n",
       "    </tr>\n",
       "    <tr>\n",
       "      <th>...</th>\n",
       "      <td>...</td>\n",
       "      <td>...</td>\n",
       "      <td>...</td>\n",
       "      <td>...</td>\n",
       "      <td>...</td>\n",
       "      <td>...</td>\n",
       "      <td>...</td>\n",
       "    </tr>\n",
       "    <tr>\n",
       "      <th>2775</th>\n",
       "      <td>2015-02-04 10:14:00</td>\n",
       "      <td>23.790000</td>\n",
       "      <td>26.310000</td>\n",
       "      <td>763.000000</td>\n",
       "      <td>1158.200000</td>\n",
       "      <td>0.004797</td>\n",
       "      <td>1</td>\n",
       "    </tr>\n",
       "    <tr>\n",
       "      <th>2776</th>\n",
       "      <td>2015-02-04 10:14:59</td>\n",
       "      <td>23.790000</td>\n",
       "      <td>26.315000</td>\n",
       "      <td>758.250000</td>\n",
       "      <td>1160.250000</td>\n",
       "      <td>0.004798</td>\n",
       "      <td>1</td>\n",
       "    </tr>\n",
       "    <tr>\n",
       "      <th>2777</th>\n",
       "      <td>2015-02-04 10:15:59</td>\n",
       "      <td>23.890000</td>\n",
       "      <td>26.390000</td>\n",
       "      <td>755.500000</td>\n",
       "      <td>1166.000000</td>\n",
       "      <td>0.004841</td>\n",
       "      <td>1</td>\n",
       "    </tr>\n",
       "    <tr>\n",
       "      <th>2778</th>\n",
       "      <td>2015-02-04 10:17:00</td>\n",
       "      <td>23.890000</td>\n",
       "      <td>26.365000</td>\n",
       "      <td>758.250000</td>\n",
       "      <td>1164.750000</td>\n",
       "      <td>0.004837</td>\n",
       "      <td>1</td>\n",
       "    </tr>\n",
       "    <tr>\n",
       "      <th>2779</th>\n",
       "      <td>2015-02-04 10:18:00</td>\n",
       "      <td>23.890000</td>\n",
       "      <td>26.290000</td>\n",
       "      <td>772.750000</td>\n",
       "      <td>1163.250000</td>\n",
       "      <td>0.004823</td>\n",
       "      <td>1</td>\n",
       "    </tr>\n",
       "    <tr>\n",
       "      <th>2780</th>\n",
       "      <td>2015-02-04 10:19:00</td>\n",
       "      <td>23.984286</td>\n",
       "      <td>26.375714</td>\n",
       "      <td>767.000000</td>\n",
       "      <td>1172.714286</td>\n",
       "      <td>0.004866</td>\n",
       "      <td>1</td>\n",
       "    </tr>\n",
       "    <tr>\n",
       "      <th>2781</th>\n",
       "      <td>2015-02-04 10:20:00</td>\n",
       "      <td>24.000000</td>\n",
       "      <td>26.365000</td>\n",
       "      <td>774.500000</td>\n",
       "      <td>1182.000000</td>\n",
       "      <td>0.004869</td>\n",
       "      <td>1</td>\n",
       "    </tr>\n",
       "    <tr>\n",
       "      <th>2782</th>\n",
       "      <td>2015-02-04 10:21:00</td>\n",
       "      <td>24.050000</td>\n",
       "      <td>26.340000</td>\n",
       "      <td>774.500000</td>\n",
       "      <td>1182.000000</td>\n",
       "      <td>0.004879</td>\n",
       "      <td>1</td>\n",
       "    </tr>\n",
       "    <tr>\n",
       "      <th>2783</th>\n",
       "      <td>2015-02-04 10:21:59</td>\n",
       "      <td>24.080000</td>\n",
       "      <td>26.370000</td>\n",
       "      <td>769.800000</td>\n",
       "      <td>1187.600000</td>\n",
       "      <td>0.004893</td>\n",
       "      <td>1</td>\n",
       "    </tr>\n",
       "    <tr>\n",
       "      <th>2784</th>\n",
       "      <td>2015-02-04 10:23:00</td>\n",
       "      <td>24.100000</td>\n",
       "      <td>26.566667</td>\n",
       "      <td>758.333333</td>\n",
       "      <td>1191.333333</td>\n",
       "      <td>0.004936</td>\n",
       "      <td>1</td>\n",
       "    </tr>\n",
       "    <tr>\n",
       "      <th>2785</th>\n",
       "      <td>2015-02-04 10:24:00</td>\n",
       "      <td>24.100000</td>\n",
       "      <td>26.472500</td>\n",
       "      <td>775.750000</td>\n",
       "      <td>1213.750000</td>\n",
       "      <td>0.004919</td>\n",
       "      <td>1</td>\n",
       "    </tr>\n",
       "    <tr>\n",
       "      <th>2786</th>\n",
       "      <td>2015-02-04 10:25:00</td>\n",
       "      <td>24.100000</td>\n",
       "      <td>26.154000</td>\n",
       "      <td>775.000000</td>\n",
       "      <td>1194.000000</td>\n",
       "      <td>0.004859</td>\n",
       "      <td>1</td>\n",
       "    </tr>\n",
       "    <tr>\n",
       "      <th>2787</th>\n",
       "      <td>2015-02-04 10:25:59</td>\n",
       "      <td>24.100000</td>\n",
       "      <td>25.958000</td>\n",
       "      <td>783.400000</td>\n",
       "      <td>1173.400000</td>\n",
       "      <td>0.004822</td>\n",
       "      <td>1</td>\n",
       "    </tr>\n",
       "    <tr>\n",
       "      <th>2788</th>\n",
       "      <td>2015-02-04 10:27:00</td>\n",
       "      <td>24.100000</td>\n",
       "      <td>25.918000</td>\n",
       "      <td>789.600000</td>\n",
       "      <td>1160.200000</td>\n",
       "      <td>0.004815</td>\n",
       "      <td>1</td>\n",
       "    </tr>\n",
       "    <tr>\n",
       "      <th>2789</th>\n",
       "      <td>2015-02-04 10:27:59</td>\n",
       "      <td>24.100000</td>\n",
       "      <td>25.892500</td>\n",
       "      <td>797.500000</td>\n",
       "      <td>1156.250000</td>\n",
       "      <td>0.004810</td>\n",
       "      <td>1</td>\n",
       "    </tr>\n",
       "    <tr>\n",
       "      <th>2790</th>\n",
       "      <td>2015-02-04 10:28:59</td>\n",
       "      <td>24.100000</td>\n",
       "      <td>25.832000</td>\n",
       "      <td>799.000000</td>\n",
       "      <td>1139.000000</td>\n",
       "      <td>0.004799</td>\n",
       "      <td>1</td>\n",
       "    </tr>\n",
       "    <tr>\n",
       "      <th>2791</th>\n",
       "      <td>2015-02-04 10:30:00</td>\n",
       "      <td>24.175000</td>\n",
       "      <td>25.840000</td>\n",
       "      <td>782.500000</td>\n",
       "      <td>1140.500000</td>\n",
       "      <td>0.004822</td>\n",
       "      <td>1</td>\n",
       "    </tr>\n",
       "    <tr>\n",
       "      <th>2792</th>\n",
       "      <td>2015-02-04 10:31:00</td>\n",
       "      <td>24.200000</td>\n",
       "      <td>25.891667</td>\n",
       "      <td>786.166667</td>\n",
       "      <td>1145.333333</td>\n",
       "      <td>0.004839</td>\n",
       "      <td>1</td>\n",
       "    </tr>\n",
       "    <tr>\n",
       "      <th>2793</th>\n",
       "      <td>2015-02-04 10:32:00</td>\n",
       "      <td>24.200000</td>\n",
       "      <td>25.890000</td>\n",
       "      <td>794.250000</td>\n",
       "      <td>1149.250000</td>\n",
       "      <td>0.004839</td>\n",
       "      <td>1</td>\n",
       "    </tr>\n",
       "    <tr>\n",
       "      <th>2794</th>\n",
       "      <td>2015-02-04 10:33:00</td>\n",
       "      <td>24.200000</td>\n",
       "      <td>25.890000</td>\n",
       "      <td>797.500000</td>\n",
       "      <td>1152.500000</td>\n",
       "      <td>0.004839</td>\n",
       "      <td>1</td>\n",
       "    </tr>\n",
       "    <tr>\n",
       "      <th>2795</th>\n",
       "      <td>2015-02-04 10:34:00</td>\n",
       "      <td>24.200000</td>\n",
       "      <td>25.890000</td>\n",
       "      <td>787.000000</td>\n",
       "      <td>1153.250000</td>\n",
       "      <td>0.004839</td>\n",
       "      <td>1</td>\n",
       "    </tr>\n",
       "    <tr>\n",
       "      <th>2796</th>\n",
       "      <td>2015-02-04 10:34:59</td>\n",
       "      <td>24.218000</td>\n",
       "      <td>25.912000</td>\n",
       "      <td>805.000000</td>\n",
       "      <td>1152.400000</td>\n",
       "      <td>0.004848</td>\n",
       "      <td>1</td>\n",
       "    </tr>\n",
       "    <tr>\n",
       "      <th>2797</th>\n",
       "      <td>2015-02-04 10:36:00</td>\n",
       "      <td>24.260000</td>\n",
       "      <td>25.891667</td>\n",
       "      <td>798.000000</td>\n",
       "      <td>1146.166667</td>\n",
       "      <td>0.004857</td>\n",
       "      <td>1</td>\n",
       "    </tr>\n",
       "    <tr>\n",
       "      <th>2798</th>\n",
       "      <td>2015-02-04 10:37:00</td>\n",
       "      <td>24.290000</td>\n",
       "      <td>25.978000</td>\n",
       "      <td>793.000000</td>\n",
       "      <td>1145.400000</td>\n",
       "      <td>0.004882</td>\n",
       "      <td>1</td>\n",
       "    </tr>\n",
       "    <tr>\n",
       "      <th>2799</th>\n",
       "      <td>2015-02-04 10:38:00</td>\n",
       "      <td>24.290000</td>\n",
       "      <td>25.852000</td>\n",
       "      <td>801.400000</td>\n",
       "      <td>1140.800000</td>\n",
       "      <td>0.004858</td>\n",
       "      <td>1</td>\n",
       "    </tr>\n",
       "    <tr>\n",
       "      <th>2800</th>\n",
       "      <td>2015-02-04 10:38:59</td>\n",
       "      <td>24.290000</td>\n",
       "      <td>25.700000</td>\n",
       "      <td>808.000000</td>\n",
       "      <td>1150.250000</td>\n",
       "      <td>0.004829</td>\n",
       "      <td>1</td>\n",
       "    </tr>\n",
       "    <tr>\n",
       "      <th>2801</th>\n",
       "      <td>2015-02-04 10:40:00</td>\n",
       "      <td>24.330000</td>\n",
       "      <td>25.736000</td>\n",
       "      <td>809.800000</td>\n",
       "      <td>1129.200000</td>\n",
       "      <td>0.004848</td>\n",
       "      <td>1</td>\n",
       "    </tr>\n",
       "    <tr>\n",
       "      <th>2802</th>\n",
       "      <td>2015-02-04 10:40:59</td>\n",
       "      <td>24.330000</td>\n",
       "      <td>25.700000</td>\n",
       "      <td>817.000000</td>\n",
       "      <td>1125.800000</td>\n",
       "      <td>0.004841</td>\n",
       "      <td>1</td>\n",
       "    </tr>\n",
       "    <tr>\n",
       "      <th>2803</th>\n",
       "      <td>2015-02-04 10:41:59</td>\n",
       "      <td>24.356667</td>\n",
       "      <td>25.700000</td>\n",
       "      <td>813.000000</td>\n",
       "      <td>1123.000000</td>\n",
       "      <td>0.004849</td>\n",
       "      <td>1</td>\n",
       "    </tr>\n",
       "    <tr>\n",
       "      <th>2804</th>\n",
       "      <td>2015-02-04 10:43:00</td>\n",
       "      <td>24.408333</td>\n",
       "      <td>25.681667</td>\n",
       "      <td>798.000000</td>\n",
       "      <td>1124.000000</td>\n",
       "      <td>0.004860</td>\n",
       "      <td>1</td>\n",
       "    </tr>\n",
       "  </tbody>\n",
       "</table>\n",
       "<p>2665 rows × 7 columns</p>\n",
       "</div>"
      ],
      "text/plain": [
       "                     date  Temperature   Humidity       Light          CO2  \\\n",
       "140   2015-02-02 14:19:00    23.700000  26.272000  585.200000   749.200000   \n",
       "141   2015-02-02 14:19:59    23.718000  26.290000  578.400000   760.400000   \n",
       "142   2015-02-02 14:21:00    23.730000  26.230000  572.666667   769.666667   \n",
       "143   2015-02-02 14:22:00    23.722500  26.125000  493.750000   774.750000   \n",
       "144   2015-02-02 14:23:00    23.754000  26.200000  488.600000   779.000000   \n",
       "145   2015-02-02 14:23:59    23.760000  26.260000  568.666667   790.000000   \n",
       "146   2015-02-02 14:25:00    23.730000  26.290000  536.333333   798.000000   \n",
       "147   2015-02-02 14:25:59    23.754000  26.290000  509.000000   797.000000   \n",
       "148   2015-02-02 14:26:59    23.754000  26.350000  476.000000   803.200000   \n",
       "149   2015-02-02 14:28:00    23.736000  26.390000  510.000000   809.000000   \n",
       "150   2015-02-02 14:29:00    23.745000  26.445000  481.500000   815.250000   \n",
       "151   2015-02-02 14:30:00    23.700000  26.560000  481.800000   824.000000   \n",
       "152   2015-02-02 14:31:00    23.700000  26.600000  475.250000   832.000000   \n",
       "153   2015-02-02 14:31:59    23.700000  26.700000  469.000000   845.333333   \n",
       "154   2015-02-02 14:32:59    23.700000  26.774000  464.000000   852.400000   \n",
       "155   2015-02-02 14:34:00    23.700000  26.890000  464.000000   861.000000   \n",
       "156   2015-02-02 14:35:00    23.700000  26.972500  455.000000   880.000000   \n",
       "157   2015-02-02 14:36:00    23.600000  26.890000  454.000000   891.000000   \n",
       "158   2015-02-02 14:37:00    23.640000  26.976000  458.000000   897.600000   \n",
       "159   2015-02-02 14:38:00    23.650000  27.050000  464.000000   900.500000   \n",
       "160   2015-02-02 14:38:59    23.640000  27.100000  473.000000   908.800000   \n",
       "161   2015-02-02 14:39:59    23.600000  27.160000  464.000000   918.000000   \n",
       "162   2015-02-02 14:41:00    23.600000  27.236000  498.400000   925.200000   \n",
       "163   2015-02-02 14:42:00    23.600000  27.290000  530.200000   929.400000   \n",
       "164   2015-02-02 14:43:00    23.600000  27.330000  533.600000   936.400000   \n",
       "165   2015-02-02 14:44:00    23.600000  27.340000  524.250000   950.000000   \n",
       "166   2015-02-02 14:44:59    23.625000  27.392500  498.666667   961.000000   \n",
       "167   2015-02-02 14:45:59    23.600000  27.390000  516.333333   963.000000   \n",
       "168   2015-02-02 14:47:00    23.600000  27.412000  501.200000   958.600000   \n",
       "169   2015-02-02 14:48:00    23.600000  27.500000  522.000000   965.333333   \n",
       "...                   ...          ...        ...         ...          ...   \n",
       "2775  2015-02-04 10:14:00    23.790000  26.310000  763.000000  1158.200000   \n",
       "2776  2015-02-04 10:14:59    23.790000  26.315000  758.250000  1160.250000   \n",
       "2777  2015-02-04 10:15:59    23.890000  26.390000  755.500000  1166.000000   \n",
       "2778  2015-02-04 10:17:00    23.890000  26.365000  758.250000  1164.750000   \n",
       "2779  2015-02-04 10:18:00    23.890000  26.290000  772.750000  1163.250000   \n",
       "2780  2015-02-04 10:19:00    23.984286  26.375714  767.000000  1172.714286   \n",
       "2781  2015-02-04 10:20:00    24.000000  26.365000  774.500000  1182.000000   \n",
       "2782  2015-02-04 10:21:00    24.050000  26.340000  774.500000  1182.000000   \n",
       "2783  2015-02-04 10:21:59    24.080000  26.370000  769.800000  1187.600000   \n",
       "2784  2015-02-04 10:23:00    24.100000  26.566667  758.333333  1191.333333   \n",
       "2785  2015-02-04 10:24:00    24.100000  26.472500  775.750000  1213.750000   \n",
       "2786  2015-02-04 10:25:00    24.100000  26.154000  775.000000  1194.000000   \n",
       "2787  2015-02-04 10:25:59    24.100000  25.958000  783.400000  1173.400000   \n",
       "2788  2015-02-04 10:27:00    24.100000  25.918000  789.600000  1160.200000   \n",
       "2789  2015-02-04 10:27:59    24.100000  25.892500  797.500000  1156.250000   \n",
       "2790  2015-02-04 10:28:59    24.100000  25.832000  799.000000  1139.000000   \n",
       "2791  2015-02-04 10:30:00    24.175000  25.840000  782.500000  1140.500000   \n",
       "2792  2015-02-04 10:31:00    24.200000  25.891667  786.166667  1145.333333   \n",
       "2793  2015-02-04 10:32:00    24.200000  25.890000  794.250000  1149.250000   \n",
       "2794  2015-02-04 10:33:00    24.200000  25.890000  797.500000  1152.500000   \n",
       "2795  2015-02-04 10:34:00    24.200000  25.890000  787.000000  1153.250000   \n",
       "2796  2015-02-04 10:34:59    24.218000  25.912000  805.000000  1152.400000   \n",
       "2797  2015-02-04 10:36:00    24.260000  25.891667  798.000000  1146.166667   \n",
       "2798  2015-02-04 10:37:00    24.290000  25.978000  793.000000  1145.400000   \n",
       "2799  2015-02-04 10:38:00    24.290000  25.852000  801.400000  1140.800000   \n",
       "2800  2015-02-04 10:38:59    24.290000  25.700000  808.000000  1150.250000   \n",
       "2801  2015-02-04 10:40:00    24.330000  25.736000  809.800000  1129.200000   \n",
       "2802  2015-02-04 10:40:59    24.330000  25.700000  817.000000  1125.800000   \n",
       "2803  2015-02-04 10:41:59    24.356667  25.700000  813.000000  1123.000000   \n",
       "2804  2015-02-04 10:43:00    24.408333  25.681667  798.000000  1124.000000   \n",
       "\n",
       "      HumidityRatio  Occupancy  \n",
       "140        0.004764          1  \n",
       "141        0.004773          1  \n",
       "142        0.004765          1  \n",
       "143        0.004744          1  \n",
       "144        0.004767          1  \n",
       "145        0.004779          1  \n",
       "146        0.004776          1  \n",
       "147        0.004783          1  \n",
       "148        0.004794          1  \n",
       "149        0.004796          1  \n",
       "150        0.004809          1  \n",
       "151        0.004817          1  \n",
       "152        0.004824          1  \n",
       "153        0.004842          1  \n",
       "154        0.004856          1  \n",
       "155        0.004877          1  \n",
       "156        0.004892          1  \n",
       "157        0.004848          1  \n",
       "158        0.004875          1  \n",
       "159        0.004891          1  \n",
       "160        0.004898          1  \n",
       "161        0.004897          1  \n",
       "162        0.004910          1  \n",
       "163        0.004920          1  \n",
       "164        0.004928          1  \n",
       "165        0.004929          1  \n",
       "166        0.004946          1  \n",
       "167        0.004938          1  \n",
       "168        0.004942          1  \n",
       "169        0.004958          1  \n",
       "...             ...        ...  \n",
       "2775       0.004797          1  \n",
       "2776       0.004798          1  \n",
       "2777       0.004841          1  \n",
       "2778       0.004837          1  \n",
       "2779       0.004823          1  \n",
       "2780       0.004866          1  \n",
       "2781       0.004869          1  \n",
       "2782       0.004879          1  \n",
       "2783       0.004893          1  \n",
       "2784       0.004936          1  \n",
       "2785       0.004919          1  \n",
       "2786       0.004859          1  \n",
       "2787       0.004822          1  \n",
       "2788       0.004815          1  \n",
       "2789       0.004810          1  \n",
       "2790       0.004799          1  \n",
       "2791       0.004822          1  \n",
       "2792       0.004839          1  \n",
       "2793       0.004839          1  \n",
       "2794       0.004839          1  \n",
       "2795       0.004839          1  \n",
       "2796       0.004848          1  \n",
       "2797       0.004857          1  \n",
       "2798       0.004882          1  \n",
       "2799       0.004858          1  \n",
       "2800       0.004829          1  \n",
       "2801       0.004848          1  \n",
       "2802       0.004841          1  \n",
       "2803       0.004849          1  \n",
       "2804       0.004860          1  \n",
       "\n",
       "[2665 rows x 7 columns]"
      ]
     },
     "execution_count": 129,
     "metadata": {},
     "output_type": "execute_result"
    }
   ],
   "source": [
    "test"
   ]
  },
  {
   "cell_type": "markdown",
   "metadata": {},
   "source": [
    "Correcting the indexing of train database"
   ]
  },
  {
   "cell_type": "code",
   "execution_count": 131,
   "metadata": {
    "collapsed": true
   },
   "outputs": [],
   "source": [
    "train.index=range(len(train))"
   ]
  },
  {
   "cell_type": "code",
   "execution_count": 132,
   "metadata": {},
   "outputs": [
    {
     "name": "stdout",
     "output_type": "stream",
     "text": [
      "1\n"
     ]
    }
   ],
   "source": [
    "count=0\n",
    "for i in range(len(train)):\n",
    "    if train.loc[i,'Light']<100 and train.loc[i,'Occupancy']==1 :\n",
    "        count=count+1\n",
    "print(count)"
   ]
  },
  {
   "cell_type": "markdown",
   "metadata": {},
   "source": [
    "Since there is only one observation it is safe to say that occupancy is always zero if light is <100."
   ]
  },
  {
   "cell_type": "markdown",
   "metadata": {},
   "source": [
    "Plotting the variation of Occupancy with Light"
   ]
  },
  {
   "cell_type": "code",
   "execution_count": 133,
   "metadata": {},
   "outputs": [
    {
     "data": {
      "text/plain": [
       "<seaborn.axisgrid.FacetGrid at 0xba98782b0>"
      ]
     },
     "execution_count": 133,
     "metadata": {},
     "output_type": "execute_result"
    },
    {
     "data": {
      "image/png": "[encoded data removed]",
      "text/plain": [
       "<Figure size 1215.25x288 with 1 Axes>"
      ]
     },
     "metadata": {},
     "output_type": "display_data"
    }
   ],
   "source": [
    "grid=sns.FacetGrid(train,hue='Occupancy',aspect=4,size=4)\n",
    "grid.map(sns.kdeplot,'Light',shade=True)\n",
    "plt.xlim(0,400)\n",
    "plt.ylim(0,0.01)\n",
    "grid.add_legend()"
   ]
  },
  {
   "cell_type": "code",
   "execution_count": 134,
   "metadata": {},
   "outputs": [
    {
     "data": {
      "text/plain": [
       "<seaborn.axisgrid.FacetGrid at 0xba986fe80>"
      ]
     },
     "execution_count": 134,
     "metadata": {},
     "output_type": "execute_result"
    },
    {
     "data": {
      "image/png": "[encoded data removed]",
      "text/plain": [
       "<Figure size 1215.25x288 with 1 Axes>"
      ]
     },
     "metadata": {},
     "output_type": "display_data"
    }
   ],
   "source": [
    "grid=sns.FacetGrid(train,hue='Occupancy',aspect=4,size=4)\n",
    "grid.map(sns.kdeplot,'Light',shade=True)\n",
    "plt.xlim(300,400)\n",
    "plt.ylim(0,0.01)\n",
    "grid.add_legend()"
   ]
  },
  {
   "cell_type": "code",
   "execution_count": 135,
   "metadata": {},
   "outputs": [
    {
     "data": {
      "text/plain": [
       "<seaborn.axisgrid.FacetGrid at 0xba9b8ac50>"
      ]
     },
     "execution_count": 135,
     "metadata": {},
     "output_type": "execute_result"
    },
    {
     "data": {
      "image/png": "[encoded data removed]",
      "text/plain": [
       "<Figure size 1215.25x288 with 1 Axes>"
      ]
     },
     "metadata": {},
     "output_type": "display_data"
    }
   ],
   "source": [
    "grid=sns.FacetGrid(train,hue='Occupancy',aspect=4,size=4)\n",
    "grid.map(sns.kdeplot,'Light',shade=True)\n",
    "plt.xlim(360,400)\n",
    "plt.ylim(0,0.01)\n",
    "grid.add_legend()"
   ]
  },
  {
   "cell_type": "markdown",
   "metadata": {},
   "source": [
    "So we see that at 370 occupancy seems to dominate"
   ]
  },
  {
   "cell_type": "code",
   "execution_count": 136,
   "metadata": {},
   "outputs": [
    {
     "data": {
      "text/plain": [
       "<seaborn.axisgrid.FacetGrid at 0xba9b8a1d0>"
      ]
     },
     "execution_count": 136,
     "metadata": {},
     "output_type": "execute_result"
    },
    {
     "data": {
      "image/png": "[encoded data removed]",
      "text/plain": [
       "<Figure size 1215.25x288 with 1 Axes>"
      ]
     },
     "metadata": {},
     "output_type": "display_data"
    }
   ],
   "source": [
    "grid=sns.FacetGrid(train,hue='Occupancy',aspect=4,size=4)\n",
    "grid.map(sns.kdeplot,'Light',shade=True)\n",
    "plt.xlim(370,600)\n",
    "plt.ylim(0,0.01)\n",
    "grid.add_legend()"
   ]
  },
  {
   "cell_type": "code",
   "execution_count": 137,
   "metadata": {},
   "outputs": [
    {
     "data": {
      "text/plain": [
       "<seaborn.axisgrid.FacetGrid at 0xba991c630>"
      ]
     },
     "execution_count": 137,
     "metadata": {},
     "output_type": "execute_result"
    },
    {
     "data": {
      "image/png": "[encoded data removed]",
      "text/plain": [
       "<Figure size 1215.25x288 with 1 Axes>"
      ]
     },
     "metadata": {},
     "output_type": "display_data"
    }
   ],
   "source": [
    "grid=sns.FacetGrid(train,hue='Occupancy',aspect=4,size=4)\n",
    "grid.map(sns.kdeplot,'Light',shade=True)\n",
    "plt.xlim(600,1000)\n",
    "plt.ylim(0,0.01)\n",
    "grid.add_legend()"
   ]
  },
  {
   "cell_type": "code",
   "execution_count": 138,
   "metadata": {},
   "outputs": [
    {
     "name": "stdout",
     "output_type": "stream",
     "text": [
      "16\n"
     ]
    }
   ],
   "source": [
    "count=0\n",
    "for i in range(len(train)):\n",
    "    if train.loc[i,'Light']>600 and train.loc[i,'Occupancy']==1 :\n",
    "        count=count+1\n",
    "print(count)"
   ]
  },
  {
   "cell_type": "code",
   "execution_count": 139,
   "metadata": {},
   "outputs": [
    {
     "name": "stdout",
     "output_type": "stream",
     "text": [
      "3\n"
     ]
    }
   ],
   "source": [
    "count=0\n",
    "for i in range(len(train)):\n",
    "    if train.loc[i,'Light']>700 and train.loc[i,'Occupancy']==1 :\n",
    "        count=count+1\n",
    "print(count)"
   ]
  },
  {
   "cell_type": "markdown",
   "metadata": {},
   "source": [
    "Now Seeing the Variation with Second Strong Feature CO2"
   ]
  },
  {
   "cell_type": "code",
   "execution_count": 140,
   "metadata": {},
   "outputs": [
    {
     "data": {
      "text/plain": [
       "<seaborn.axisgrid.FacetGrid at 0xbaa1f3390>"
      ]
     },
     "execution_count": 140,
     "metadata": {},
     "output_type": "execute_result"
    },
    {
     "data": {
      "image/png": "[encoded data removed]",
      "text/plain": [
       "<Figure size 1215.25x288 with 1 Axes>"
      ]
     },
     "metadata": {},
     "output_type": "display_data"
    }
   ],
   "source": [
    "grid=sns.FacetGrid(train,hue='Occupancy',aspect=4,size=4)\n",
    "grid.map(sns.kdeplot,'CO2',shade=True)\n",
    "plt.xlim(250,400)\n",
    "plt.ylim(0,0.01)\n",
    "grid.add_legend()"
   ]
  },
  {
   "cell_type": "code",
   "execution_count": 141,
   "metadata": {},
   "outputs": [
    {
     "data": {
      "text/html": [
       "<div>\n",
       "<style scoped>\n",
       "    .dataframe tbody tr th:only-of-type {\n",
       "        vertical-align: middle;\n",
       "    }\n",
       "\n",
       "    .dataframe tbody tr th {\n",
       "        vertical-align: top;\n",
       "    }\n",
       "\n",
       "    .dataframe thead th {\n",
       "        text-align: right;\n",
       "    }\n",
       "</style>\n",
       "<table border=\"1\" class=\"dataframe\">\n",
       "  <thead>\n",
       "    <tr style=\"text-align: right;\">\n",
       "      <th></th>\n",
       "      <th>Temperature</th>\n",
       "      <th>Humidity</th>\n",
       "      <th>Light</th>\n",
       "      <th>CO2</th>\n",
       "      <th>HumidityRatio</th>\n",
       "      <th>Occupancy</th>\n",
       "    </tr>\n",
       "  </thead>\n",
       "  <tbody>\n",
       "    <tr>\n",
       "      <th>count</th>\n",
       "      <td>8143.000000</td>\n",
       "      <td>8143.000000</td>\n",
       "      <td>8143.000000</td>\n",
       "      <td>8143.000000</td>\n",
       "      <td>8143.000000</td>\n",
       "      <td>8143.000000</td>\n",
       "    </tr>\n",
       "    <tr>\n",
       "      <th>mean</th>\n",
       "      <td>20.619084</td>\n",
       "      <td>25.731507</td>\n",
       "      <td>119.519375</td>\n",
       "      <td>606.546243</td>\n",
       "      <td>0.003863</td>\n",
       "      <td>0.212330</td>\n",
       "    </tr>\n",
       "    <tr>\n",
       "      <th>std</th>\n",
       "      <td>1.016916</td>\n",
       "      <td>5.531211</td>\n",
       "      <td>194.755805</td>\n",
       "      <td>314.320877</td>\n",
       "      <td>0.000852</td>\n",
       "      <td>0.408982</td>\n",
       "    </tr>\n",
       "    <tr>\n",
       "      <th>min</th>\n",
       "      <td>19.000000</td>\n",
       "      <td>16.745000</td>\n",
       "      <td>0.000000</td>\n",
       "      <td>412.750000</td>\n",
       "      <td>0.002674</td>\n",
       "      <td>0.000000</td>\n",
       "    </tr>\n",
       "    <tr>\n",
       "      <th>25%</th>\n",
       "      <td>19.700000</td>\n",
       "      <td>20.200000</td>\n",
       "      <td>0.000000</td>\n",
       "      <td>439.000000</td>\n",
       "      <td>0.003078</td>\n",
       "      <td>0.000000</td>\n",
       "    </tr>\n",
       "    <tr>\n",
       "      <th>50%</th>\n",
       "      <td>20.390000</td>\n",
       "      <td>26.222500</td>\n",
       "      <td>0.000000</td>\n",
       "      <td>453.500000</td>\n",
       "      <td>0.003801</td>\n",
       "      <td>0.000000</td>\n",
       "    </tr>\n",
       "    <tr>\n",
       "      <th>75%</th>\n",
       "      <td>21.390000</td>\n",
       "      <td>30.533333</td>\n",
       "      <td>256.375000</td>\n",
       "      <td>638.833333</td>\n",
       "      <td>0.004352</td>\n",
       "      <td>0.000000</td>\n",
       "    </tr>\n",
       "    <tr>\n",
       "      <th>max</th>\n",
       "      <td>23.180000</td>\n",
       "      <td>39.117500</td>\n",
       "      <td>1546.333333</td>\n",
       "      <td>2028.500000</td>\n",
       "      <td>0.006476</td>\n",
       "      <td>1.000000</td>\n",
       "    </tr>\n",
       "  </tbody>\n",
       "</table>\n",
       "</div>"
      ],
      "text/plain": [
       "       Temperature     Humidity        Light          CO2  HumidityRatio  \\\n",
       "count  8143.000000  8143.000000  8143.000000  8143.000000    8143.000000   \n",
       "mean     20.619084    25.731507   119.519375   606.546243       0.003863   \n",
       "std       1.016916     5.531211   194.755805   314.320877       0.000852   \n",
       "min      19.000000    16.745000     0.000000   412.750000       0.002674   \n",
       "25%      19.700000    20.200000     0.000000   439.000000       0.003078   \n",
       "50%      20.390000    26.222500     0.000000   453.500000       0.003801   \n",
       "75%      21.390000    30.533333   256.375000   638.833333       0.004352   \n",
       "max      23.180000    39.117500  1546.333333  2028.500000       0.006476   \n",
       "\n",
       "         Occupancy  \n",
       "count  8143.000000  \n",
       "mean      0.212330  \n",
       "std       0.408982  \n",
       "min       0.000000  \n",
       "25%       0.000000  \n",
       "50%       0.000000  \n",
       "75%       0.000000  \n",
       "max       1.000000  "
      ]
     },
     "execution_count": 141,
     "metadata": {},
     "output_type": "execute_result"
    }
   ],
   "source": [
    "train.describe()"
   ]
  },
  {
   "cell_type": "code",
   "execution_count": 142,
   "metadata": {},
   "outputs": [
    {
     "data": {
      "text/plain": [
       "<seaborn.axisgrid.FacetGrid at 0xbaa52d7b8>"
      ]
     },
     "execution_count": 142,
     "metadata": {},
     "output_type": "execute_result"
    },
    {
     "data": {
      "image/png": "[encoded data removed]",
      "text/plain": [
       "<Figure size 1215.25x288 with 1 Axes>"
      ]
     },
     "metadata": {},
     "output_type": "display_data"
    }
   ],
   "source": [
    "grid=sns.FacetGrid(train,hue='Occupancy',aspect=4,size=4)\n",
    "grid.map(sns.kdeplot,'CO2',shade=True)\n",
    "plt.xlim(500,800)\n",
    "plt.ylim(0,0.01)\n",
    "grid.add_legend()"
   ]
  },
  {
   "cell_type": "code",
   "execution_count": 143,
   "metadata": {},
   "outputs": [
    {
     "data": {
      "text/plain": [
       "<seaborn.axisgrid.FacetGrid at 0xbaabd4fd0>"
      ]
     },
     "execution_count": 143,
     "metadata": {},
     "output_type": "execute_result"
    },
    {
     "data": {
      "image/png": "[encoded data removed]",
      "text/plain": [
       "<Figure size 1215.25x288 with 1 Axes>"
      ]
     },
     "metadata": {},
     "output_type": "display_data"
    }
   ],
   "source": [
    "grid=sns.FacetGrid(train,hue='Occupancy',aspect=4,size=4)\n",
    "grid.map(sns.kdeplot,'CO2',shade=True)\n",
    "plt.xlim(520,610)\n",
    "plt.ylim(0,0.01)\n",
    "grid.add_legend()"
   ]
  },
  {
   "cell_type": "markdown",
   "metadata": {},
   "source": [
    "So above 550 as CO2 levels increase occupancy also increases<br>\n",
    "But it may happen that CO2 and light have a high correlation between them!!\n",
    "<br>Checking if that is the case\n"
   ]
  },
  {
   "cell_type": "code",
   "execution_count": 144,
   "metadata": {},
   "outputs": [
    {
     "data": {
      "image/png": "[encoded data removed]",
      "text/plain": [
       "<Figure size 720x576 with 2 Axes>"
      ]
     },
     "metadata": {},
     "output_type": "display_data"
    }
   ],
   "source": [
    "plt.figure(figsize=(10,8))\n",
    "sns.heatmap(train.corr(),annot=True)\n",
    "plt.show()"
   ]
  },
  {
   "cell_type": "markdown",
   "metadata": {},
   "source": [
    "We find that humidity and humidity ratio have a high correlation between them and they hardly affect occupancy.<br>\n",
    "So before testing I will drop both the columns ie(['humidity','humidity ratio'])"
   ]
  },
  {
   "cell_type": "markdown",
   "metadata": {},
   "source": [
    "So total number of our features=3 ie(['Light','CO2','Temperature'])"
   ]
  },
  {
   "cell_type": "markdown",
   "metadata": {},
   "source": [
    "Checking the Last Feature Temperature"
   ]
  },
  {
   "cell_type": "code",
   "execution_count": 145,
   "metadata": {},
   "outputs": [
    {
     "data": {
      "text/plain": [
       "<seaborn.axisgrid.FacetGrid at 0xbab21fc18>"
      ]
     },
     "execution_count": 145,
     "metadata": {},
     "output_type": "execute_result"
    },
    {
     "data": {
      "image/png": "[encoded data removed]",
      "text/plain": [
       "<Figure size 1215.25x288 with 1 Axes>"
      ]
     },
     "metadata": {},
     "output_type": "display_data"
    }
   ],
   "source": [
    "grid=sns.FacetGrid(train,hue='Occupancy',aspect=4,size=4)\n",
    "grid.map(sns.kdeplot,'Temperature',shade=True)\n",
    "plt.xlim(0,25)\n",
    "\n",
    "grid.add_legend()"
   ]
  },
  {
   "cell_type": "code",
   "execution_count": 146,
   "metadata": {},
   "outputs": [
    {
     "data": {
      "text/plain": [
       "<seaborn.axisgrid.FacetGrid at 0xbab27fdd8>"
      ]
     },
     "execution_count": 146,
     "metadata": {},
     "output_type": "execute_result"
    },
    {
     "data": {
      "image/png": "[encoded data removed]",
      "text/plain": [
       "<Figure size 1215.25x288 with 1 Axes>"
      ]
     },
     "metadata": {},
     "output_type": "display_data"
    }
   ],
   "source": [
    "grid=sns.FacetGrid(train,hue='Occupancy',aspect=4,size=4)\n",
    "grid.map(sns.kdeplot,'Temperature',shade=True)\n",
    "plt.xlim(16,25)\n",
    "\n",
    "grid.add_legend()"
   ]
  },
  {
   "cell_type": "code",
   "execution_count": 147,
   "metadata": {},
   "outputs": [
    {
     "name": "stdout",
     "output_type": "stream",
     "text": [
      "0\n"
     ]
    }
   ],
   "source": [
    "count=0\n",
    "for i in range(len(train)):\n",
    "    if train.loc[i,'Temperature']<18 and train.loc[i,'Occupancy']==1 :\n",
    "        count=count+1\n",
    "print(count)"
   ]
  },
  {
   "cell_type": "code",
   "execution_count": 148,
   "metadata": {},
   "outputs": [
    {
     "name": "stdout",
     "output_type": "stream",
     "text": [
      "23\n"
     ]
    }
   ],
   "source": [
    "count=0\n",
    "for i in range(len(train)):\n",
    "    if train.loc[i,'Temperature']<20 and train.loc[i,'Occupancy']==1 :\n",
    "        count=count+1\n",
    "print(count)"
   ]
  },
  {
   "cell_type": "markdown",
   "metadata": {},
   "source": [
    "Making Maps for Each Feature"
   ]
  },
  {
   "cell_type": "code",
   "execution_count": 149,
   "metadata": {},
   "outputs": [
    {
     "data": {
      "text/plain": [
       "<seaborn.axisgrid.FacetGrid at 0xbab1eb5c0>"
      ]
     },
     "execution_count": 149,
     "metadata": {},
     "output_type": "execute_result"
    },
    {
     "data": {
      "image/png": "[encoded data removed]",
      "text/plain": [
       "<Figure size 1215.25x288 with 1 Axes>"
      ]
     },
     "metadata": {},
     "output_type": "display_data"
    }
   ],
   "source": [
    "grid=sns.FacetGrid(train,hue='Occupancy',aspect=4,size=4)\n",
    "grid.map(sns.kdeplot,'CO2',shade=True)\n",
    "plt.xlim(700,2200)\n",
    "plt.ylim(0,0.01)\n",
    "grid.add_legend()"
   ]
  },
  {
   "cell_type": "code",
   "execution_count": 150,
   "metadata": {},
   "outputs": [],
   "source": [
    "train=train[['Temperature','Humidity','Light','CO2','Occupancy']]"
   ]
  },
  {
   "cell_type": "code",
   "execution_count": 151,
   "metadata": {},
   "outputs": [],
   "source": [
    "train.index=range(len(train))"
   ]
  },
  {
   "cell_type": "code",
   "execution_count": 152,
   "metadata": {},
   "outputs": [
    {
     "data": {
      "text/html": [
       "<div>\n",
       "<style scoped>\n",
       "    .dataframe tbody tr th:only-of-type {\n",
       "        vertical-align: middle;\n",
       "    }\n",
       "\n",
       "    .dataframe tbody tr th {\n",
       "        vertical-align: top;\n",
       "    }\n",
       "\n",
       "    .dataframe thead th {\n",
       "        text-align: right;\n",
       "    }\n",
       "</style>\n",
       "<table border=\"1\" class=\"dataframe\">\n",
       "  <thead>\n",
       "    <tr style=\"text-align: right;\">\n",
       "      <th></th>\n",
       "      <th>Temperature</th>\n",
       "      <th>Humidity</th>\n",
       "      <th>Light</th>\n",
       "      <th>CO2</th>\n",
       "      <th>Occupancy</th>\n",
       "    </tr>\n",
       "  </thead>\n",
       "  <tbody>\n",
       "    <tr>\n",
       "      <th>0</th>\n",
       "      <td>23.18</td>\n",
       "      <td>27.2720</td>\n",
       "      <td>426.0</td>\n",
       "      <td>721.25</td>\n",
       "      <td>1</td>\n",
       "    </tr>\n",
       "    <tr>\n",
       "      <th>1</th>\n",
       "      <td>23.15</td>\n",
       "      <td>27.2675</td>\n",
       "      <td>429.5</td>\n",
       "      <td>714.00</td>\n",
       "      <td>1</td>\n",
       "    </tr>\n",
       "    <tr>\n",
       "      <th>2</th>\n",
       "      <td>23.15</td>\n",
       "      <td>27.2450</td>\n",
       "      <td>426.0</td>\n",
       "      <td>713.50</td>\n",
       "      <td>1</td>\n",
       "    </tr>\n",
       "    <tr>\n",
       "      <th>3</th>\n",
       "      <td>23.15</td>\n",
       "      <td>27.2000</td>\n",
       "      <td>426.0</td>\n",
       "      <td>708.25</td>\n",
       "      <td>1</td>\n",
       "    </tr>\n",
       "    <tr>\n",
       "      <th>4</th>\n",
       "      <td>23.10</td>\n",
       "      <td>27.2000</td>\n",
       "      <td>426.0</td>\n",
       "      <td>704.50</td>\n",
       "      <td>1</td>\n",
       "    </tr>\n",
       "  </tbody>\n",
       "</table>\n",
       "</div>"
      ],
      "text/plain": [
       "   Temperature  Humidity  Light     CO2  Occupancy\n",
       "0        23.18   27.2720  426.0  721.25          1\n",
       "1        23.15   27.2675  429.5  714.00          1\n",
       "2        23.15   27.2450  426.0  713.50          1\n",
       "3        23.15   27.2000  426.0  708.25          1\n",
       "4        23.10   27.2000  426.0  704.50          1"
      ]
     },
     "execution_count": 152,
     "metadata": {},
     "output_type": "execute_result"
    }
   ],
   "source": [
    "train.head()"
   ]
  },
  {
   "cell_type": "markdown",
   "metadata": {},
   "source": [
    "Done With Feature Engineering"
   ]
  },
  {
   "cell_type": "markdown",
   "metadata": {},
   "source": [
    "Applying the KNN Algorithm with Randomly Chosen K Values"
   ]
  },
  {
   "cell_type": "markdown",
   "metadata": {},
   "source": [
    "So KNN is Best Applied For K=2"
   ]
  },
  {
   "cell_type": "markdown",
   "metadata": {},
   "source": [
    "Let us Apply the above logic with no feature Scaling at all"
   ]
  },
  {
   "cell_type": "code",
   "execution_count": 153,
   "metadata": {
    "collapsed": true
   },
   "outputs": [],
   "source": [
    "train=pd.read_csv('datatraining.txt',sep=',')"
   ]
  },
  {
   "cell_type": "code",
   "execution_count": 154,
   "metadata": {
    "collapsed": true
   },
   "outputs": [],
   "source": [
    "train=train[['Temperature','Humidity','Light','CO2','Occupancy']]"
   ]
  },
  {
   "cell_type": "code",
   "execution_count": 155,
   "metadata": {},
   "outputs": [
    {
     "name": "stdout",
     "output_type": "stream",
     "text": [
      "[0.94596433392621115, 0.95456685725266088, 0.95419408626639302, 0.95481120087123761, 0.96082648553682903, 0.9603364413017369, 0.95898343259219809, 0.95947649118341616, 0.96180913615409802, 0.96352933897587878, 0.96561718886057279, 0.96254683983658695, 0.96856559180897572, 0.96684644377080919]\n"
     ]
    },
    {
     "data": {
      "text/plain": [
       "Text(0,0.5,'Cross-Validated Accuracy')"
      ]
     },
     "execution_count": 155,
     "metadata": {},
     "output_type": "execute_result"
    },
    {
     "data": {
      "image/png": "[encoded data removed]",
      "text/plain": [
       "<Figure size 432x288 with 1 Axes>"
      ]
     },
     "metadata": {},
     "output_type": "display_data"
    }
   ],
   "source": [
    "X=train.drop(['Occupancy'],axis=1)\n",
    "y=train['Occupancy']\n",
    "from sklearn.cross_validation import train_test_split\n",
    "from sklearn.neighbors import KNeighborsClassifier\n",
    "from sklearn import metrics\n",
    "from sklearn.cross_validation import cross_val_score\n",
    "k_range = list(range(1,15))\n",
    "k_scores = []\n",
    "for k in k_range:\n",
    "    knn = KNeighborsClassifier(n_neighbors=k)\n",
    "    scores = cross_val_score(knn, X, y, cv=10, scoring='accuracy')\n",
    "    k_scores.append(scores.mean())\n",
    "print(k_scores)\n",
    "plt.plot(k_range, k_scores)\n",
    "plt.xlabel('Value of K for KNN')\n",
    "plt.ylabel('Cross-Validated Accuracy')"
   ]
  },
  {
   "cell_type": "markdown",
   "metadata": {},
   "source": [
    "So K=13 is best"
   ]
  },
  {
   "cell_type": "code",
   "execution_count": 156,
   "metadata": {},
   "outputs": [
    {
     "name": "stdout",
     "output_type": "stream",
     "text": [
      "0.968565591809\n"
     ]
    }
   ],
   "source": [
    "knn = KNeighborsClassifier(n_neighbors=13)\n",
    "scores = cross_val_score(knn, X, y, cv=10, scoring='accuracy')\n",
    "print(scores.mean())"
   ]
  },
  {
   "cell_type": "markdown",
   "metadata": {},
   "source": [
    "Now Working on the Test Datasets"
   ]
  },
  {
   "cell_type": "code",
   "execution_count": 157,
   "metadata": {},
   "outputs": [
    {
     "name": "stdout",
     "output_type": "stream",
     "text": [
      "0.95544559033\n"
     ]
    }
   ],
   "source": [
    "test=test[['Temperature','Humidity','Light','CO2','Occupancy']]\n",
    "X=test.drop(['Occupancy'],axis=1)\n",
    "y=test['Occupancy']\n",
    "knn = KNeighborsClassifier(n_neighbors=13)\n",
    "scores = cross_val_score(knn, X, y, cv=10, scoring='accuracy')\n",
    "print(scores.mean())"
   ]
  },
  {
   "cell_type": "code",
   "execution_count": 158,
   "metadata": {},
   "outputs": [
    {
     "name": "stdout",
     "output_type": "stream",
     "text": [
      "0.986676229292\n"
     ]
    }
   ],
   "source": [
    "test2=test2[['Temperature','Humidity','Light','CO2','Occupancy']]\n",
    "X=test2.drop(['Occupancy'],axis=1)\n",
    "y=test2['Occupancy']\n",
    "knn = KNeighborsClassifier(n_neighbors=13)\n",
    "scores = cross_val_score(knn, X, y, cv=10, scoring='accuracy')\n",
    "print(scores.mean())"
   ]
  },
  {
   "cell_type": "markdown",
   "metadata": {},
   "source": [
    "Thanks"
   ]
  },
  {
   "cell_type": "code",
   "execution_count": null,
   "metadata": {
    "collapsed": true
   },
   "outputs": [],
   "source": []
  }
 ],
 "metadata": {
  "kernelspec": {
   "display_name": "Python 3",
   "language": "python",
   "name": "python3"
  },
  "language_info": {
   "codemirror_mode": {
    "name": "ipython",
    "version": 3
   },
   "file_extension": ".py",
   "mimetype": "text/x-python",
   "name": "python",
   "nbconvert_exporter": "python",
   "pygments_lexer": "ipython3",
   "version": "3.6.3"
  }
 },
 "nbformat": 4,
 "nbformat_minor": 2
}
